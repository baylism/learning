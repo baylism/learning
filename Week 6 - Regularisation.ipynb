{
 "cells": [
  {
   "cell_type": "markdown",
   "metadata": {},
   "source": [
    "# Regularisation with weight decay\u001e"
   ]
  },
  {
   "cell_type": "code",
   "execution_count": 1,
   "metadata": {
    "collapsed": true
   },
   "outputs": [],
   "source": [
    "import numpy as np"
   ]
  },
  {
   "cell_type": "markdown",
   "metadata": {},
   "source": [
    "#### Loading the data\n",
    "Each line of the files corresponds to a two-dimensional input x = (x1, x2), so that X = R^2, followed by the corresponding\n",
    "label from Y = {-1,1}. We are going to apply Linear Regression with a non-linear transformation for classifcation. "
   ]
  },
  {
   "cell_type": "code",
   "execution_count": 2,
   "metadata": {
    "collapsed": true
   },
   "outputs": [],
   "source": [
    "train = np.loadtxt(\"in.dta\")\n",
    "test = np.loadtxt(\"out.dta\")"
   ]
  },
  {
   "cell_type": "markdown",
   "metadata": {},
   "source": [
    "#### Defining plain linear regression functions"
   ]
  },
  {
   "cell_type": "code",
   "execution_count": 3,
   "metadata": {
    "collapsed": true
   },
   "outputs": [],
   "source": [
    "def nonlinear_transform(data):\n",
    "    \"\"\"Perform nonlinear transformation as per q2 spec\"\"\"\n",
    "    result = []\n",
    "    for row in data:\n",
    "        x1 = row[0]\n",
    "        x2 = row[1]\n",
    "\n",
    "        result.append([1, x1, x2, np.multiply(x1, x1), np.multiply(x2, x2),\n",
    "                       np.multiply(x1, x2), np.abs(x1 - x2), np.abs(x1 + x2)])\n",
    "\n",
    "    return np.array(result)\n",
    "\n",
    "def extract_labels(dataset):\n",
    "    \"\"\"Return correct classifications from dataset\"\"\"\n",
    "    return dataset[:, 2]\n",
    "\n",
    "def linreg(dataset, y):\n",
    "    \"\"\"Return weights from linear regression\"\"\"\n",
    "    pseudo_inverse = np.linalg.pinv(dataset)\n",
    "    w = pseudo_inverse.dot(y)\n",
    "\n",
    "    return w\n",
    "\n",
    "def evaluate_points(dataset, line):\n",
    "    \"\"\"Return list classifying points in dataset as above or below line\"\"\"\n",
    "\n",
    "    return np.sign(dataset.dot(line))\n",
    "\n",
    "def calculate_error(dataset, weights, y):\n",
    "    \"\"\"Calculate error in weights\"\"\"\n",
    "    output = evaluate_points(dataset, weights)\n",
    "    comparison = np.equal(output, y)\n",
    "\n",
    "    number_false = 0\n",
    "    for c in comparison:\n",
    "        if c == False:\n",
    "            number_false += 1\n",
    "\n",
    "    return number_false / len(y)"
   ]
  },
  {
   "cell_type": "markdown",
   "metadata": {},
   "source": [
    "## Question 2"
   ]
  },
  {
   "cell_type": "code",
   "execution_count": 4,
   "metadata": {
    "collapsed": false
   },
   "outputs": [
    {
     "name": "stdout",
     "output_type": "stream",
     "text": [
      "In sample error:  0.02857142857142857\n",
      "Out of sample error:  0.084\n"
     ]
    }
   ],
   "source": [
    "data = nonlinear_transform(train)\n",
    "labels = extract_labels(train)\n",
    "lr = linreg(data, labels)\n",
    "er = calculate_error(data, lr, labels)\n",
    "\n",
    "out = nonlinear_transform(test)\n",
    "out_labels = extract_labels(test)\n",
    "out_er = calculate_error(out, lr, out_labels)\n",
    "\n",
    "print(\"In sample error: \", er)\n",
    "print(\"Out of sample error: \", out_er)"
   ]
  },
  {
   "cell_type": "markdown",
   "metadata": {},
   "source": [
    "## Question 3"
   ]
  },
  {
   "cell_type": "markdown",
   "metadata": {},
   "source": [
    "#### Linear regression with weight decay"
   ]
  },
  {
   "cell_type": "code",
   "execution_count": 5,
   "metadata": {
    "collapsed": true
   },
   "outputs": [],
   "source": [
    "def linreg_weight_decay(dataset, y, reg_factor):\n",
    "    \"\"\"Return weights from linear regression with weight decay\"\"\"\n",
    "\n",
    "    a = dataset.T.dot(dataset) + (np.identity(dataset.shape[1]) * reg_factor)\n",
    "    b = np.linalg.inv(a)\n",
    "    c = b.dot(dataset.T)\n",
    "    w = c.dot(y)\n",
    "\n",
    "    return w"
   ]
  },
  {
   "cell_type": "markdown",
   "metadata": {},
   "source": [
    "#### Running the test\n",
    "lambda = 10^k  \n",
    "k = -3"
   ]
  },
  {
   "cell_type": "code",
   "execution_count": 6,
   "metadata": {
    "collapsed": false,
    "scrolled": true
   },
   "outputs": [
    {
     "name": "stdout",
     "output_type": "stream",
     "text": [
      "In sample error:  0.02857142857142857\n",
      "Out of sample error:  0.084\n"
     ]
    }
   ],
   "source": [
    "data = nonlinear_transform(train)\n",
    "labels = extract_labels(train)\n",
    "lr = linreg_weight_decay(data, labels, np.power(10, -3))\n",
    "er = calculate_error(data, lr, labels)\n",
    "\n",
    "out = nonlinear_transform(test)\n",
    "out_labels = extract_labels(test)\n",
    "out_er = calculate_error(out, lr, out_labels)\n",
    "\n",
    "print(\"In sample error: \", er)\n",
    "print(\"Out of sample error: \", out_er)"
   ]
  },
  {
   "cell_type": "markdown",
   "metadata": {},
   "source": [
    "## Question 4\n",
    "k = 3"
   ]
  },
  {
   "cell_type": "code",
   "execution_count": 7,
   "metadata": {
    "collapsed": false
   },
   "outputs": [
    {
     "name": "stdout",
     "output_type": "stream",
     "text": [
      "In sample error:  0.37142857142857144\n",
      "Out of sample error:  0.436\n"
     ]
    }
   ],
   "source": [
    "data = nonlinear_transform(train)\n",
    "labels = extract_labels(train)\n",
    "lr = linreg_weight_decay(data, labels, np.power(10, 3))\n",
    "er = calculate_error(data, lr, labels)\n",
    "\n",
    "out = nonlinear_transform(test)\n",
    "out_labels = extract_labels(test)\n",
    "out_er = calculate_error(out, lr, out_labels)\n",
    "\n",
    "\n",
    "print(\"In sample error: \", er)\n",
    "print(\"Out of sample error: \", out_er)"
   ]
  },
  {
   "cell_type": "markdown",
   "metadata": {},
   "source": [
    "## Question 5\n",
    "Comparing Eout for k = [2, 1, 0, -1, -2]"
   ]
  },
  {
   "cell_type": "code",
   "execution_count": 8,
   "metadata": {
    "collapsed": false
   },
   "outputs": [
    {
     "name": "stdout",
     "output_type": "stream",
     "text": [
      "2:   Ein: 0.2 Eout: 0.228\n",
      "1:   Ein: 0.05714285714285714 Eout: 0.124\n",
      "0:   Ein: 0.0 Eout: 0.092\n",
      "-1:   Ein: 0.02857142857142857 Eout: 0.084\n",
      "-2:   Ein: 0.02857142857142857 Eout: 0.084\n"
     ]
    }
   ],
   "source": [
    "for i in [2, 1, 0, -1, -2]:\n",
    "    data = nonlinear_transform(train)\n",
    "    labels = extract_labels(train)\n",
    "    lr = linreg_weight_decay(data, labels, np.power(10, i))\n",
    "    er = calculate_error(data, lr, labels)\n",
    "\n",
    "    out = nonlinear_transform(test)\n",
    "    out_labels = extract_labels(test)\n",
    "    out_er = calculate_error(out, lr, out_labels)\n",
    "\n",
    "    print(str(i) + \":  \" + \" Ein: \" + str(er) + \" Eout: \" + str(out_er))"
   ]
  }
 ],
 "metadata": {
  "anaconda-cloud": {},
  "kernelspec": {
   "display_name": "Python [Root]",
   "language": "python",
   "name": "Python [Root]"
  },
  "language_info": {
   "codemirror_mode": {
    "name": "ipython",
    "version": 3
   },
   "file_extension": ".py",
   "mimetype": "text/x-python",
   "name": "python",
   "nbconvert_exporter": "python",
   "pygments_lexer": "ipython3",
   "version": "3.5.2"
  }
 },
 "nbformat": 4,
 "nbformat_minor": 0
}
