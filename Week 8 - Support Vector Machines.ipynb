{
 "cells": [
  {
   "cell_type": "code",
   "execution_count": 1,
   "metadata": {
    "collapsed": true
   },
   "outputs": [],
   "source": [
    "import numpy as np\n",
    "from sklearn import svm, metrics\n",
    "from sklearn.model_selection import cross_val_score, KFold"
   ]
  },
  {
   "cell_type": "markdown",
   "metadata": {},
   "source": [
    "## Load data and split into training and testing sets"
   ]
  },
  {
   "cell_type": "code",
   "execution_count": 2,
   "metadata": {
    "collapsed": false
   },
   "outputs": [],
   "source": [
    "train_dataset = np.loadtxt(\"features.train\")\n",
    "test_dataset = np.loadtxt(\"features.test\")\n",
    "\n",
    "# Initialise normal training data\n",
    "train = train_dataset[:, 1:]\n",
    "train_target = train_dataset[:, 0]\n",
    "\n",
    "# Initialise testing data\n",
    "test = test_dataset[:, 1:]\n",
    "test_target = test_dataset[:, 0]"
   ]
  },
  {
   "cell_type": "markdown",
   "metadata": {},
   "source": [
    "## Comparing one-versus-all classifiers\n",
    "\n",
    "### Question 2\n",
    "C = 0.001, Q = 2\n",
    "Comparing in sample error of the following classifiers:\n",
    "    0 versus all\n",
    "    2 versus all\n",
    "    4 versus all\n",
    "    6 versus all\n",
    "    8 versus all\n",
    "            "
   ]
  },
  {
   "cell_type": "code",
   "execution_count": 3,
   "metadata": {
    "collapsed": true
   },
   "outputs": [],
   "source": [
    "def x_v(x, target):\n",
    "    \"\"\"\n",
    "    Return classifier from US Postal Service Zip Code data set of \n",
    "    type x-versus-all. \n",
    "    Does not modify target.\n",
    "    \n",
    "    x - digit in postal code dataset\n",
    "    target - dataset\n",
    "    \n",
    "    \"\"\"\n",
    "    data = np.copy(target)\n",
    "    for point in np.nditer(data, op_flags=['readwrite']):\n",
    "        if point == x:\n",
    "            point[...] = 1\n",
    "        else:\n",
    "            point[...] = -1\n",
    "    return data"
   ]
  },
  {
   "cell_type": "code",
   "execution_count": 4,
   "metadata": {
    "collapsed": false
   },
   "outputs": [
    {
     "name": "stdout",
     "output_type": "stream",
     "text": [
      "0 0.836236455905\n",
      "2 0.899739404746\n",
      "4 0.910574681114\n",
      "6 0.908928816349\n",
      "8 0.925661774791\n"
     ]
    }
   ],
   "source": [
    "classifier = svm.SVC(C=0.01, kernel='poly', degree=2)\n",
    "for x in [0, 2, 4, 6, 8]:\n",
    "   target_tmp = x_v(x, train_target)\n",
    "   classifier.fit(train, target_tmp)\n",
    "   print(x, classifier.score(train, target_tmp))"
   ]
  },
  {
   "cell_type": "markdown",
   "metadata": {},
   "source": [
    "### Question 3\n",
    "C = 0.01, Q = 3\n",
    "Comparing in sample error of the following classifiers:\n",
    "    1 versus all\n",
    "    3 versus all\n",
    "    5 versus all\n",
    "    7 versus all\n",
    "    9 versus all"
   ]
  },
  {
   "cell_type": "code",
   "execution_count": 5,
   "metadata": {
    "collapsed": false
   },
   "outputs": [
    {
     "name": "stdout",
     "output_type": "stream",
     "text": [
      "1 0.984227129338\n",
      "3 0.909751748731\n",
      "5 0.923741599232\n",
      "7 0.911534768893\n",
      "9 0.91167192429\n"
     ]
    }
   ],
   "source": [
    "classifier = svm.SVC(C=0.01, kernel='poly', degree=2)\n",
    "for x in [1, 3, 5, 7, 9]:\n",
    "   target_tmp = x_v(x, train_target)\n",
    "   classifier.fit(train, target_tmp)\n",
    "   print(x, classifier.score(train, target_tmp))"
   ]
  },
  {
   "cell_type": "markdown",
   "metadata": {},
   "source": [
    "### Question 4\n",
    "Comparing the number of support vectors in classifiers selected in Questions 2 and 3. \n",
    "Selected classifier for question 2 was '0 versus all'\n",
    "Selected classifier for question 2 was '1 versus all'"
   ]
  },
  {
   "cell_type": "code",
   "execution_count": 6,
   "metadata": {
    "collapsed": false
   },
   "outputs": [
    {
     "name": "stdout",
     "output_type": "stream",
     "text": [
      "Number of support vectors for Q2:  2390\n",
      "Number of support vectors for Q3:  536\n"
     ]
    }
   ],
   "source": [
    "classifier_1 = svm.SVC(C=0.01, kernel='poly', degree=2)\n",
    "target_tmp = x_v(0, train_target)\n",
    "classifier_1.fit(train, target_tmp)\n",
    "print('Number of support vectors for Q2: ', len(classifier_1.support_vectors_))\n",
    "\n",
    "classifier_2 = svm.SVC(C=0.01, kernel='poly', degree=2)\n",
    "target_tmp = x_v(1, train_target)\n",
    "classifier_2.fit(train, target_tmp)\n",
    "print('Number of support vectors for Q3: ', len(classifier_2.support_vectors_))"
   ]
  },
  {
   "cell_type": "markdown",
   "metadata": {},
   "source": [
    "# Comparing one-versus-one classifiers"
   ]
  },
  {
   "cell_type": "markdown",
   "metadata": {},
   "source": [
    "One digit is class +1 and another digit is class -1, with the rest of the digits disregarded. For the following problems, we use a 1-versus-5 classifier. "
   ]
  },
  {
   "cell_type": "code",
   "execution_count": 7,
   "metadata": {
    "collapsed": true
   },
   "outputs": [],
   "source": [
    "def one_v_one(x, y, dataset):\n",
    "    \"\"\"\n",
    "    Return classifier of type x-versus-all\n",
    "    does not modify target\n",
    "    \"\"\"\n",
    "    result = []\n",
    "    for row in dataset:\n",
    "        if row[0] == x:\n",
    "            result.append([1, row[1], row[2]])\n",
    "        elif row[0] == y:\n",
    "            result.append([-1, row[1], row[2]])\n",
    "    return np.array(result)"
   ]
  },
  {
   "cell_type": "code",
   "execution_count": 8,
   "metadata": {
    "collapsed": true
   },
   "outputs": [],
   "source": [
    "# Initialise 1v5 training data\n",
    "train_dataset_tmp = one_v_one(1, 5, train_dataset)\n",
    "train = train_dataset_tmp[:, 1:]\n",
    "train_target = train_dataset_tmp[:, 0]\n",
    "\n",
    "# Initialise 1v5 testing data\n",
    "test_dataset_tmp = one_v_one(1, 5, test_dataset)\n",
    "test = test_dataset_tmp[:, 1:]\n",
    "test_target = test_dataset_tmp[:, 0]"
   ]
  },
  {
   "cell_type": "markdown",
   "metadata": {},
   "source": [
    "## Question 5\n",
    "Consider the 1 versus 5 classifier with Q = 2 and C = [0.001, 0.01, 0.1, 1]. Finding effect of an increase in C on:\n",
    "    number of support vectors, \n",
    "    in sample error and \n",
    "    out of sample error."
   ]
  },
  {
   "cell_type": "code",
   "execution_count": 9,
   "metadata": {
    "collapsed": false
   },
   "outputs": [
    {
     "name": "stdout",
     "output_type": "stream",
     "text": [
      "SV:  [80, 34, 24, 24]\n",
      "Training score:  [0.99551569506726456, 0.99551569506726456, 0.99551569506726456, 0.99615631005765537]\n",
      "Testing score:  [0.98349056603773588, 0.98113207547169812, 0.98113207547169812, 0.98113207547169812]\n"
     ]
    }
   ],
   "source": [
    "number_support_vectors = []\n",
    "in_sample_score = []\n",
    "out_sample_score = []\n",
    "\n",
    "for C in [0.001, 0.01, 0.1, 1]:\n",
    "   classifier = svm.SVC(C=C, kernel='poly', degree=2, gamma=1.0)\n",
    "   classifier.fit(train, train_target)\n",
    "\n",
    "   number_support_vectors.append((len(classifier.support_vectors_)))\n",
    "   in_sample_score.append(classifier.score(train, train_target))\n",
    "   out_sample_score.append(classifier.score(test, test_target))\n",
    "\n",
    "print('SV: ', number_support_vectors)\n",
    "print('Training score: ', in_sample_score)\n",
    "print('Testing score: ', out_sample_score)"
   ]
  },
  {
   "cell_type": "markdown",
   "metadata": {},
   "source": [
    "## Question 6\n",
    "Consider the 1 versus 5 classifier with Q = 2 and Q = 5. C = [0.0001, 0.001, 0.01, 1]. \n",
    "\n",
    "Finding effect of an increase in C with different Q on: number of support vectors, in sample error and out of sample error."
   ]
  },
  {
   "cell_type": "code",
   "execution_count": 10,
   "metadata": {
    "collapsed": false
   },
   "outputs": [
    {
     "name": "stdout",
     "output_type": "stream",
     "text": [
      "SV 2:  [244, 80, 34, 24]\n",
      "SV 5:  [26, 26, 27, 24]\n",
      "Training score 2:  [0.010249839846252384, 0.004484304932735439, 0.004484304932735439, 0.0038436899423446302]\n",
      "Training score 5:  [0.004484304932735439, 0.004484304932735439, 0.0051249199231262477, 0.004484304932735439]\n",
      "Testing score 2:  [0.01650943396226412, 0.01650943396226412, 0.018867924528301883, 0.018867924528301883]\n",
      "Testing score 5:  [0.01650943396226412, 0.01650943396226412, 0.01650943396226412, 0.01650943396226412]\n"
     ]
    }
   ],
   "source": [
    "number_support_vectors_5 = []\n",
    "in_sample_score_5 = []\n",
    "out_sample_score_5 = []\n",
    "\n",
    "number_support_vectors_2 = []\n",
    "in_sample_score_2 = []\n",
    "out_sample_score_2 = []\n",
    "\n",
    "for C in [0.0001, 0.001, 0.01, 1]:\n",
    "    classifier = svm.SVC(C=C, kernel='poly', degree=5, gamma=1.0,\n",
    "                         decision_function_shape='ovo')\n",
    "    classifier.fit(train, train_target)\n",
    "\n",
    "    number_support_vectors_5.append((len(classifier.support_vectors_)))\n",
    "    in_sample_score_5.append(1- classifier.score(train, train_target))\n",
    "    out_sample_score_5.append(1- classifier.score(test, test_target))\n",
    "\n",
    "for C in [0.0001, 0.001, 0.01, 1]:\n",
    "    classifier = svm.SVC(C=C, kernel='poly', degree=2, gamma=1.0,\n",
    "                         decision_function_shape='ovo')\n",
    "    classifier.fit(train, train_target)\n",
    "\n",
    "    number_support_vectors_2.append((len(classifier.support_vectors_)))\n",
    "    in_sample_score_2.append(1 - classifier.score(train, train_target))\n",
    "    out_sample_score_2.append(1- classifier.score(test, test_target))\n",
    "\n",
    "\n",
    "print('SV 2: ', number_support_vectors_2)\n",
    "print('SV 5: ', number_support_vectors_5)\n",
    "\n",
    "print('Training score 2: ', in_sample_score_2)\n",
    "print('Training score 5: ', in_sample_score_5)\n",
    "\n",
    "print('Testing score 2: ', out_sample_score_2)\n",
    "print('Testing score 5: ', out_sample_score_5)"
   ]
  },
  {
   "cell_type": "markdown",
   "metadata": {},
   "source": [
    "## Cross Validation\n",
    "In the next two problems, we experiment with 10-fold cross validation for the polynomial kernel. Because Ecv is a random variable that depends on the random partition of the data, we will try 100 runs with different partitions and base our answer on how many runs lead to a particular choice.\n",
    "\n",
    "### Question 7\n",
    "Consider the 1 versus 5 classiffer with Q = 2. Use Ecv to select between C = [0.0001, 0.001, 0.01, 1]. Which C is selected most often?"
   ]
  },
  {
   "cell_type": "code",
   "execution_count": 11,
   "metadata": {
    "collapsed": false
   },
   "outputs": [
    {
     "name": "stdout",
     "output_type": "stream",
     "text": [
      "[1, 1, 1, 1, 1, 1, 1, 1, 1, 1]\n"
     ]
    }
   ],
   "source": [
    "results = []\n",
    "for i in range(10):\n",
    "   scores = []\n",
    "   for C in [0.0001, 0.001, 0.01, 0.1, 1]:\n",
    "       classifier = svm.SVC(C=C, kernel='poly', degree=2, gamma=1.0)\n",
    "       kf = KFold(n_splits=10)\n",
    "       scores.append(np.mean(cross_val_score(classifier, train, train_target, cv=kf)))\n",
    "   results.append(np.argmax(scores))\n",
    "\n",
    "print(results)"
   ]
  },
  {
   "cell_type": "markdown",
   "metadata": {},
   "source": [
    "### Question 8\n",
    "Again, consider the 1 versus 5 classiffer with Q = 2. For the winning selection in the previous problem, what is the average value of Ecv over the 100 runs?"
   ]
  },
  {
   "cell_type": "code",
   "execution_count": 12,
   "metadata": {
    "collapsed": false
   },
   "outputs": [
    {
     "name": "stdout",
     "output_type": "stream",
     "text": [
      "0.00448309652131\n"
     ]
    }
   ],
   "source": [
    "results = []\n",
    "for i in range(10):\n",
    "   classifier = svm.SVC(C=0.001, kernel='poly', degree=2, gamma=1.0)\n",
    "   kf = KFold(n_splits=10)\n",
    "   results.append(np.mean(cross_val_score(classifier, train, train_target, cv=kf)))\n",
    "\n",
    "print(1- np.mean(results))"
   ]
  },
  {
   "cell_type": "markdown",
   "metadata": {},
   "source": [
    "## RBF Kernel"
   ]
  },
  {
   "cell_type": "markdown",
   "metadata": {},
   "source": [
    "### Questions 9 and 10\n",
    "Consider the radial basis function (RBF) kernel in the soft-margin SVM approach. Focus on the 1 versus 5 classiffer. Which c = [0.01, 1, 100, 10^4, 10^6] results in the lowest Ein and Eout?"
   ]
  },
  {
   "cell_type": "code",
   "execution_count": 13,
   "metadata": {
    "collapsed": false
   },
   "outputs": [
    {
     "name": "stdout",
     "output_type": "stream",
     "text": [
      "Training score:  [0.99615631005765537, 0.99551569506726456, 0.99679692504804618, 0.99743754003843688, 0.99935938500960919]\n",
      "Testing score:  [0.97641509433962259, 0.97877358490566035, 0.98113207547169812, 0.97641509433962259, 0.97641509433962259]\n"
     ]
    }
   ],
   "source": [
    "in_sample_score = []\n",
    "out_sample_score = []\n",
    "\n",
    "for C in [0.01, 1, 100, 10**4, 10**6]:\n",
    "   classifier = svm.SVC(C=C, kernel='rbf', gamma=1.0)\n",
    "   classifier.fit(train, train_target)\n",
    "\n",
    "   in_sample_score.append(classifier.score(train, train_target))\n",
    "   out_sample_score.append(classifier.score(test, test_target))\n",
    "\n",
    "print('Training score: ', in_sample_score)\n",
    "print('Testing score: ', out_sample_score)"
   ]
  }
 ],
 "metadata": {
  "anaconda-cloud": {},
  "kernelspec": {
   "display_name": "Python [Root]",
   "language": "python",
   "name": "Python [Root]"
  },
  "language_info": {
   "codemirror_mode": {
    "name": "ipython",
    "version": 3
   },
   "file_extension": ".py",
   "mimetype": "text/x-python",
   "name": "python",
   "nbconvert_exporter": "python",
   "pygments_lexer": "ipython3",
   "version": "3.5.2"
  }
 },
 "nbformat": 4,
 "nbformat_minor": 0
}
